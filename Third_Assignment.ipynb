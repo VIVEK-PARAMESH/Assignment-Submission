{
  "nbformat": 4,
  "nbformat_minor": 0,
  "metadata": {
    "colab": {
      "name": "Untitled3.ipynb",
      "provenance": []
    },
    "kernelspec": {
      "name": "python3",
      "display_name": "Python 3"
    },
    "language_info": {
      "name": "python"
    }
  },
  "cells": [
    {
      "cell_type": "code",
      "metadata": {
        "id": "Pb7nX9GRxO9L"
      },
      "source": [
        "#Strings"
      ],
      "execution_count": 1,
      "outputs": []
    },
    {
      "cell_type": "code",
      "metadata": {
        "colab": {
          "base_uri": "https://localhost:8080/"
        },
        "id": "C4FR779MzVeH",
        "outputId": "21d6ecfa-c911-4843-b09b-33e8c755bb99"
      },
      "source": [
        "States=[\"Delhi\",\"Karnataka\",\"TamilNadu\",\"Kerala\",\"UP\"]\n",
        "print(States)"
      ],
      "execution_count": 2,
      "outputs": [
        {
          "output_type": "stream",
          "text": [
            "['Delhi', 'Karnataka', 'TamilNadu', 'Kerala', 'UP']\n"
          ],
          "name": "stdout"
        }
      ]
    },
    {
      "cell_type": "code",
      "metadata": {
        "id": "LKMvDOayzst4"
      },
      "source": [
        "#Lists"
      ],
      "execution_count": 3,
      "outputs": []
    },
    {
      "cell_type": "code",
      "metadata": {
        "colab": {
          "base_uri": "https://localhost:8080/"
        },
        "id": "b0YIU9h4z0ca",
        "outputId": "e08fc699-af08-4aa3-fb38-0d457a6b68ed"
      },
      "source": [
        "DOB=[\"August\",7,8,\"May\",\"jul\",1995]\n",
        "print(DOB)\n",
        "DOB[2]\n",
        "#Able to append or delete"
      ],
      "execution_count": 26,
      "outputs": [
        {
          "output_type": "stream",
          "text": [
            "['August', 7, 8, 'May', 'jul', 1995]\n"
          ],
          "name": "stdout"
        },
        {
          "output_type": "execute_result",
          "data": {
            "text/plain": [
              "8"
            ]
          },
          "metadata": {
            "tags": []
          },
          "execution_count": 26
        }
      ]
    },
    {
      "cell_type": "code",
      "metadata": {
        "colab": {
          "base_uri": "https://localhost:8080/"
        },
        "id": "CYe9_t9W2jE8",
        "outputId": "e15afd15-516c-4e03-980d-56b600b157b6"
      },
      "source": [
        "#Append\n",
        "DOB.append(\"Jan\")\n",
        "print(DOB)"
      ],
      "execution_count": 25,
      "outputs": [
        {
          "output_type": "stream",
          "text": [
            "['August', 7, 'May', 'jul', 1995, 'Jan']\n"
          ],
          "name": "stdout"
        }
      ]
    },
    {
      "cell_type": "code",
      "metadata": {
        "colab": {
          "base_uri": "https://localhost:8080/"
        },
        "id": "0T8YxIj_2dm0",
        "outputId": "84bba4aa-8973-4e9d-a782-3ad498e2d07a"
      },
      "source": [
        "#Delete\n",
        "DOB=[\"August\",7,8,\"May\",\"jul\",1995]\n",
        "del DOB[2]\n",
        "print(DOB)"
      ],
      "execution_count": 24,
      "outputs": [
        {
          "output_type": "stream",
          "text": [
            "['August', 7, 'May', 'jul', 1995]\n"
          ],
          "name": "stdout"
        }
      ]
    },
    {
      "cell_type": "code",
      "metadata": {
        "id": "JF3l1Qa80XZx"
      },
      "source": [
        "#Tuples"
      ],
      "execution_count": 16,
      "outputs": []
    },
    {
      "cell_type": "code",
      "metadata": {
        "colab": {
          "base_uri": "https://localhost:8080/",
          "height": 52
        },
        "id": "7Ouidstt1D_r",
        "outputId": "1f9c7834-a419-4061-f181-1381ba548a35"
      },
      "source": [
        "a=(1,\"rahul\",\"karthik\",\"manja\",5,8)\n",
        "print(a)\n",
        "a[1]\n",
        "#Not able to append or delete"
      ],
      "execution_count": 21,
      "outputs": [
        {
          "output_type": "stream",
          "text": [
            "(1, 'rahul', 'karthik', 'manja', 5, 8)\n"
          ],
          "name": "stdout"
        },
        {
          "output_type": "execute_result",
          "data": {
            "application/vnd.google.colaboratory.intrinsic+json": {
              "type": "string"
            },
            "text/plain": [
              "'rahul'"
            ]
          },
          "metadata": {
            "tags": []
          },
          "execution_count": 21
        }
      ]
    },
    {
      "cell_type": "code",
      "metadata": {
        "id": "anutkHiN8wtu"
      },
      "source": [
        "#Dictionary"
      ],
      "execution_count": 78,
      "outputs": []
    },
    {
      "cell_type": "code",
      "metadata": {
        "colab": {
          "base_uri": "https://localhost:8080/",
          "height": 35
        },
        "id": "b4SF3A5Z6IZR",
        "outputId": "16015ef9-6f02-4acb-a6b2-e6a7450eec9d"
      },
      "source": [
        "sampleDict = { \n",
        "  \"name\": \"Kelly\",\n",
        "  \"age\":25, \n",
        "  \"salary\": 8000, \n",
        "  \"city\": \"New york\" \n",
        "}\n",
        "sampleDict[\"city\"]\n"
      ],
      "execution_count": 77,
      "outputs": [
        {
          "output_type": "execute_result",
          "data": {
            "application/vnd.google.colaboratory.intrinsic+json": {
              "type": "string"
            },
            "text/plain": [
              "'New york'"
            ]
          },
          "metadata": {
            "tags": []
          },
          "execution_count": 77
        }
      ]
    },
    {
      "cell_type": "code",
      "metadata": {
        "id": "VNo7CHte8vvY"
      },
      "source": [
        ""
      ],
      "execution_count": null,
      "outputs": []
    },
    {
      "cell_type": "code",
      "metadata": {
        "id": "kIGNq9q_6JVJ"
      },
      "source": [
        ""
      ],
      "execution_count": null,
      "outputs": []
    }
  ]
}