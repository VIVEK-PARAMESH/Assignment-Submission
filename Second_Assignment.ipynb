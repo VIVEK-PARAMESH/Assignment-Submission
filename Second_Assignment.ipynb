{
  "nbformat": 4,
  "nbformat_minor": 0,
  "metadata": {
    "colab": {
      "name": "Untitled2.ipynb",
      "provenance": []
    },
    "kernelspec": {
      "name": "python3",
      "display_name": "Python 3"
    },
    "language_info": {
      "name": "python"
    }
  },
  "cells": [
    {
      "cell_type": "code",
      "metadata": {
        "id": "K4HQiXlYZ7mf"
      },
      "source": [
        "import random\n"
      ],
      "execution_count": null,
      "outputs": []
    },
    {
      "cell_type": "code",
      "metadata": {
        "colab": {
          "base_uri": "https://localhost:8080/"
        },
        "id": "iwdZL2lyZ_7N",
        "outputId": "94589683-5924-483d-8727-edd7814f6e13"
      },
      "source": [
        "names=[\"David\",\"Ajay\",\"Kumar\",\"Rahul\",\"Pavan\",\"Suresh\",\"Sandesh\",\"Mahesh\",\"Latha\",\"Chris\"]\n",
        "for i in range(1):\n",
        "  print(random.choice(names))\n"
      ],
      "execution_count": null,
      "outputs": [
        {
          "output_type": "stream",
          "text": [
            "Kumar\n"
          ],
          "name": "stdout"
        }
      ]
    },
    {
      "cell_type": "code",
      "metadata": {
        "id": "Tc27H9TCaRHe"
      },
      "source": [
        ""
      ],
      "execution_count": null,
      "outputs": []
    }
  ]
}