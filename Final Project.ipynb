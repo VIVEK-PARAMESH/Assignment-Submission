{
  "nbformat": 4,
  "nbformat_minor": 0,
  "metadata": {
    "colab": {
      "name": "Untitled12.ipynb",
      "provenance": []
    },
    "kernelspec": {
      "name": "python3",
      "display_name": "Python 3"
    },
    "language_info": {
      "name": "python"
    }
  },
  "cells": [
    {
      "cell_type": "code",
      "metadata": {
        "id": "yAEV2rM1a_dl"
      },
      "source": [
        "import requests"
      ],
      "execution_count": 1,
      "outputs": []
    },
    {
      "cell_type": "code",
      "metadata": {
        "id": "HklswcF-j7fY"
      },
      "source": [
        "import json"
      ],
      "execution_count": 19,
      "outputs": []
    },
    {
      "cell_type": "code",
      "metadata": {
        "colab": {
          "base_uri": "https://localhost:8080/"
        },
        "id": "dv0s2kcSbKUH",
        "outputId": "7bac1948-7595-4533-e3b2-292a38409c09"
      },
      "source": [
        "#API Address of OpenWeatherMap also converting it into a celsius\n",
        "api_address=\"https://api.openweathermap.org/data/2.5/weather?&appid=c06e080eee7cadb4ea65ff2e3a4c04d0&units=metric&q=\"\n",
        "#Giving City Name as Input \n",
        "city_name=input(\"Enter the City Name : \")\n",
        "#Concatenating both city name and api address\n",
        "url_id=api_address + city_name\n",
        "#Getting the JSON format of data \n",
        "json_data=requests.get(url_id).json()\n",
        "#Printing the data of a particular city in Pretty Json format way\n",
        "print(json.dumps(json_data,indent=2))\n"
      ],
      "execution_count": 33,
      "outputs": [
        {
          "output_type": "stream",
          "text": [
            "Enter the City Name : Delhi\n",
            "{\n",
            "  \"coord\": {\n",
            "    \"lon\": 77.2167,\n",
            "    \"lat\": 28.6667\n",
            "  },\n",
            "  \"weather\": [\n",
            "    {\n",
            "      \"id\": 721,\n",
            "      \"main\": \"Haze\",\n",
            "      \"description\": \"haze\",\n",
            "      \"icon\": \"50d\"\n",
            "    }\n",
            "  ],\n",
            "  \"base\": \"stations\",\n",
            "  \"main\": {\n",
            "    \"temp\": 42.05,\n",
            "    \"feels_like\": 45.7,\n",
            "    \"temp_min\": 42.05,\n",
            "    \"temp_max\": 42.05,\n",
            "    \"pressure\": 999,\n",
            "    \"humidity\": 27\n",
            "  },\n",
            "  \"visibility\": 4500,\n",
            "  \"wind\": {\n",
            "    \"speed\": 4.12,\n",
            "    \"deg\": 290\n",
            "  },\n",
            "  \"clouds\": {\n",
            "    \"all\": 40\n",
            "  },\n",
            "  \"dt\": 1625655517,\n",
            "  \"sys\": {\n",
            "    \"type\": 1,\n",
            "    \"id\": 9165,\n",
            "    \"country\": \"IN\",\n",
            "    \"sunrise\": 1625615942,\n",
            "    \"sunset\": 1625665958\n",
            "  },\n",
            "  \"timezone\": 19800,\n",
            "  \"id\": 1273294,\n",
            "  \"name\": \"Delhi\",\n",
            "  \"cod\": 200\n",
            "}\n"
          ],
          "name": "stdout"
        }
      ]
    },
    {
      "cell_type": "code",
      "metadata": {
        "colab": {
          "base_uri": "https://localhost:8080/"
        },
        "id": "kGSs1TQVcctL",
        "outputId": "75285bd9-3d72-411f-f909-50790adaabd8"
      },
      "source": [
        "#Json Format way but not pretty\n",
        "print(json_data)"
      ],
      "execution_count": 34,
      "outputs": [
        {
          "output_type": "stream",
          "text": [
            "{'coord': {'lon': 77.2167, 'lat': 28.6667}, 'weather': [{'id': 721, 'main': 'Haze', 'description': 'haze', 'icon': '50d'}], 'base': 'stations', 'main': {'temp': 42.05, 'feels_like': 45.7, 'temp_min': 42.05, 'temp_max': 42.05, 'pressure': 999, 'humidity': 27}, 'visibility': 4500, 'wind': {'speed': 4.12, 'deg': 290}, 'clouds': {'all': 40}, 'dt': 1625655517, 'sys': {'type': 1, 'id': 9165, 'country': 'IN', 'sunrise': 1625615942, 'sunset': 1625665958}, 'timezone': 19800, 'id': 1273294, 'name': 'Delhi', 'cod': 200}\n"
          ],
          "name": "stdout"
        }
      ]
    },
    {
      "cell_type": "code",
      "metadata": {
        "id": "SzmnfBEsnZms"
      },
      "source": [
        ""
      ],
      "execution_count": null,
      "outputs": []
    }
  ]
}