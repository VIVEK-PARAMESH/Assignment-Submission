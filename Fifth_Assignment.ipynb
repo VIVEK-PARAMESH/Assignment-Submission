{
  "nbformat": 4,
  "nbformat_minor": 0,
  "metadata": {
    "colab": {
      "name": "Untitled1.ipynb",
      "provenance": []
    },
    "kernelspec": {
      "name": "python3",
      "display_name": "Python 3"
    },
    "language_info": {
      "name": "python"
    }
  },
  "cells": [
    {
      "cell_type": "code",
      "metadata": {
        "id": "y0fBnh_9TleU"
      },
      "source": [
        "# Finding a prime number using functions\n",
        "\n",
        "def Prime(x):\n",
        "  if(x<2):\n",
        "    return False\n",
        "  elif(x==2):\n",
        "    return True\n",
        "  for i in range(2,x):\n",
        "    if x%i==0:\n",
        "      return False\n",
        "    else:\n",
        "      return True"
      ],
      "execution_count": 1,
      "outputs": []
    },
    {
      "cell_type": "code",
      "metadata": {
        "colab": {
          "base_uri": "https://localhost:8080/"
        },
        "id": "kDwAaRIwUNQG",
        "outputId": "7256e9ad-b978-4930-9d4b-b10cc9a77414"
      },
      "source": [
        "Prime(4)"
      ],
      "execution_count": 4,
      "outputs": [
        {
          "output_type": "execute_result",
          "data": {
            "text/plain": [
              "False"
            ]
          },
          "metadata": {
            "tags": []
          },
          "execution_count": 4
        }
      ]
    },
    {
      "cell_type": "code",
      "metadata": {
        "colab": {
          "base_uri": "https://localhost:8080/"
        },
        "id": "U0eBJcueUQ-I",
        "outputId": "64bf8ef2-c9d5-4736-abc8-799be3fb9f3c"
      },
      "source": [
        "# Finding a prime number without using functions\n",
        "\n",
        "number = eval(input(\"Enter number to check whether its prime or not: \"))\n",
        "\n",
        "if number > 1:\n",
        "    for i in range(2, number):\n",
        "        if (number % i) == 0:\n",
        "            print(number, \"is not a prime number\")\n",
        "            break\n",
        "    else:\n",
        "        print(number, \"is a prime number\")\n",
        "else:\n",
        "    print(number, \"is not a prime number\")"
      ],
      "execution_count": 5,
      "outputs": [
        {
          "output_type": "stream",
          "text": [
            "Enter number to check whether its prime or not: 6\n",
            "6 is not a prime number\n"
          ],
          "name": "stdout"
        }
      ]
    },
    {
      "cell_type": "code",
      "metadata": {
        "id": "Ri1zUbfnU2po"
      },
      "source": [
        ""
      ],
      "execution_count": null,
      "outputs": []
    }
  ]
}