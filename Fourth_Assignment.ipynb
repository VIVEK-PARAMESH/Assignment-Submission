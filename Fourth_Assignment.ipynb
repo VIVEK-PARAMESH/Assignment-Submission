{
  "nbformat": 4,
  "nbformat_minor": 0,
  "metadata": {
    "colab": {
      "name": "Untitled5.ipynb",
      "provenance": []
    },
    "kernelspec": {
      "name": "python3",
      "display_name": "Python 3"
    },
    "language_info": {
      "name": "python"
    }
  },
  "cells": [
    {
      "cell_type": "code",
      "metadata": {
        "colab": {
          "base_uri": "https://localhost:8080/"
        },
        "id": "f_IyWDJCxk10",
        "outputId": "63c9b546-32c5-4014-8be5-7a4e4f782d70"
      },
      "source": [
        "#Pilot landing the Plane depending on the altitude and taking decision depending on altitude\n",
        "\n",
        "alt=eval(input(\"Altitude Value: \"))\n",
        "if(alt<1000):\n",
        "  print(\"Safe to Land\")\n",
        "elif(alt>1000 and alt<5000):\n",
        "  print(\"Bring down to 1000\")\n",
        "else:\n",
        "  print(\"Turn around\")"
      ],
      "execution_count": 2,
      "outputs": [
        {
          "output_type": "stream",
          "text": [
            "Altitude Value: 500\n",
            "Safe to Land\n"
          ],
          "name": "stdout"
        }
      ]
    },
    {
      "cell_type": "code",
      "metadata": {
        "id": "fCQidov8xt_K"
      },
      "source": [
        ""
      ],
      "execution_count": 1,
      "outputs": []
    }
  ]
}