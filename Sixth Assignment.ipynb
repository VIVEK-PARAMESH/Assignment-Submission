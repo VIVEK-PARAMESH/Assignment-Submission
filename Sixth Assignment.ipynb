{
  "nbformat": 4,
  "nbformat_minor": 0,
  "metadata": {
    "colab": {
      "name": "Untitled10.ipynb",
      "provenance": []
    },
    "kernelspec": {
      "name": "python3",
      "display_name": "Python 3"
    },
    "language_info": {
      "name": "python"
    }
  },
  "cells": [
    {
      "cell_type": "code",
      "metadata": {
        "colab": {
          "base_uri": "https://localhost:8080/"
        },
        "id": "rpER9O4sI-c9",
        "outputId": "1bd7e789-a541-4245-b0a9-2fe38052022b"
      },
      "source": [
        "pip install pytube"
      ],
      "execution_count": 1,
      "outputs": [
        {
          "output_type": "stream",
          "text": [
            "Collecting pytube\n",
            "\u001b[?25l  Downloading https://files.pythonhosted.org/packages/e4/00/efb6e84d291a943fbcd6c9d79fbaf8174fa7dc8fef1a2fb524f6978ed26d/pytube-10.9.1-py3-none-any.whl (54kB)\n",
            "\r\u001b[K     |██████                          | 10kB 15.4MB/s eta 0:00:01\r\u001b[K     |████████████                    | 20kB 20.1MB/s eta 0:00:01\r\u001b[K     |██████████████████              | 30kB 12.0MB/s eta 0:00:01\r\u001b[K     |████████████████████████        | 40kB 9.2MB/s eta 0:00:01\r\u001b[K     |██████████████████████████████  | 51kB 5.0MB/s eta 0:00:01\r\u001b[K     |████████████████████████████████| 61kB 3.3MB/s \n",
            "\u001b[?25hInstalling collected packages: pytube\n",
            "Successfully installed pytube-10.9.1\n"
          ],
          "name": "stdout"
        }
      ]
    },
    {
      "cell_type": "code",
      "metadata": {
        "id": "xQBNwRv9JA1l"
      },
      "source": [
        "from pytube import YouTube\n"
      ],
      "execution_count": 8,
      "outputs": []
    },
    {
      "cell_type": "code",
      "metadata": {
        "colab": {
          "base_uri": "https://localhost:8080/",
          "height": 35
        },
        "id": "F7cghHbfJTtj",
        "outputId": "fe29a1b5-4ca2-4374-a723-4b9e0713802f"
      },
      "source": [
        "Url_link=\"https://www.youtube.com/watch?v=3s5XyooFGpg\"\n",
        "Youtube=pytube.YouTube(Url_link)\n",
        "video_format=Youtube.streams.first()\n",
        "video_format.download()"
      ],
      "execution_count": 10,
      "outputs": [
        {
          "output_type": "execute_result",
          "data": {
            "application/vnd.google.colaboratory.intrinsic+json": {
              "type": "string"
            },
            "text/plain": [
              "'/content/Neenaade Naa Video Song -Yuvarathnaa (Kannada)  Puneeth Rajkumar Santhosh Ananddram Hombale Films.mp4'"
            ]
          },
          "metadata": {
            "tags": []
          },
          "execution_count": 10
        }
      ]
    },
    {
      "cell_type": "code",
      "metadata": {
        "id": "VVMG-11gJcS-"
      },
      "source": [
        ""
      ],
      "execution_count": null,
      "outputs": []
    }
  ]
}