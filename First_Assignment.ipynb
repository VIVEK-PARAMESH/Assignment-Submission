{
  "nbformat": 4,
  "nbformat_minor": 0,
  "metadata": {
    "colab": {
      "name": "First_Assignment.ipynb",
      "provenance": [],
      "collapsed_sections": []
    },
    "kernelspec": {
      "name": "python3",
      "display_name": "Python 3"
    },
    "language_info": {
      "name": "python"
    }
  },
  "cells": [
    {
      "cell_type": "code",
      "metadata": {
        "colab": {
          "base_uri": "https://localhost:8080/"
        },
        "id": "7onX0pu-VssQ",
        "outputId": "1acf7386-23ac-418d-9a80-723dd8f80cd2"
      },
      "source": [
        "a=eval(input(\"Enter first number: \"))\n",
        "b=eval(input(\"Enter second number: \"))\n",
        "#Sum of Numbers\n",
        "sum=a+b\n",
        "print(sum)\n",
        "#Difference of Numbers\n",
        "diff=a-b\n",
        "print(diff)\n",
        "#Division of Numbers\n",
        "div=a/b\n",
        "print(div)\n",
        "#Multiplication of Numbers\n",
        "multi=a*b\n",
        "print(multi)\n"
      ],
      "execution_count": null,
      "outputs": [
        {
          "output_type": "stream",
          "text": [
            "Enter first number: 200\n",
            "Enter second number: 100\n",
            "300\n",
            "100\n",
            "2.0\n",
            "20000\n"
          ],
          "name": "stdout"
        }
      ]
    },
    {
      "cell_type": "code",
      "metadata": {
        "id": "wlQmMc0OWUUZ"
      },
      "source": [
        ""
      ],
      "execution_count": null,
      "outputs": []
    }
  ]
}